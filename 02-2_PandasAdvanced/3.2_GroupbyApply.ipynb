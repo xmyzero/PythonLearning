{
 "cells": [
  {
   "cell_type": "code",
   "execution_count": 1,
   "metadata": {},
   "outputs": [
    {
     "name": "stderr",
     "output_type": "stream",
     "text": [
      "/Users/mengyuanxu/anaconda3/lib/python3.7/site-packages/statsmodels/compat/pandas.py:49: FutureWarning: The Panel class is removed from pandas. Accessing it from the top-level namespace will also be removed in the next version\n",
      "  data_klasses = (pandas.Series, pandas.DataFrame, pandas.Panel)\n"
     ]
    }
   ],
   "source": [
    "import pandas as pd\n",
    "import numpy as np\n",
    "import statsmodels.api as sm"
   ]
  },
  {
   "cell_type": "markdown",
   "metadata": {},
   "source": [
    "## 示例1：使用指定分组值填充缺失值"
   ]
  },
  {
   "cell_type": "code",
   "execution_count": 3,
   "metadata": {},
   "outputs": [
    {
     "data": {
      "text/plain": [
       "0         NaN\n",
       "1    0.321692\n",
       "2         NaN\n",
       "3    0.179424\n",
       "4         NaN\n",
       "5    0.762851\n",
       "dtype: float64"
      ]
     },
     "execution_count": 3,
     "metadata": {},
     "output_type": "execute_result"
    }
   ],
   "source": [
    "s = pd.Series(np.random.rand(6))\n",
    "s[::2] = np.nan\n",
    "s"
   ]
  },
  {
   "cell_type": "code",
   "execution_count": 4,
   "metadata": {},
   "outputs": [
    {
     "data": {
      "text/plain": [
       "0.4213223001833382"
      ]
     },
     "execution_count": 4,
     "metadata": {},
     "output_type": "execute_result"
    }
   ],
   "source": [
    "s.mean()"
   ]
  },
  {
   "cell_type": "code",
   "execution_count": 5,
   "metadata": {},
   "outputs": [
    {
     "data": {
      "text/plain": [
       "0    0.421322\n",
       "1    0.321692\n",
       "2    0.421322\n",
       "3    0.179424\n",
       "4    0.421322\n",
       "5    0.762851\n",
       "dtype: float64"
      ]
     },
     "execution_count": 5,
     "metadata": {},
     "output_type": "execute_result"
    }
   ],
   "source": [
    "s.fillna(s.mean())"
   ]
  },
  {
   "cell_type": "code",
   "execution_count": 9,
   "metadata": {},
   "outputs": [
    {
     "data": {
      "text/plain": [
       "['East', 'East', 'East', 'East', 'West', 'West', 'West', 'West']"
      ]
     },
     "execution_count": 9,
     "metadata": {},
     "output_type": "execute_result"
    }
   ],
   "source": [
    "group_key"
   ]
  },
  {
   "cell_type": "code",
   "execution_count": 6,
   "metadata": {},
   "outputs": [
    {
     "data": {
      "text/plain": [
       "Ohio          0.968576\n",
       "New York      1.804447\n",
       "Vermont       0.408057\n",
       "Florida       2.338827\n",
       "Oregon        0.967104\n",
       "Nevada        1.205268\n",
       "California    1.019146\n",
       "Idaho         1.587301\n",
       "dtype: float64"
      ]
     },
     "execution_count": 6,
     "metadata": {},
     "output_type": "execute_result"
    }
   ],
   "source": [
    "states = ['Ohio', 'New York', 'Vermont', 'Florida',\n",
    "          'Oregon', 'Nevada', 'California', 'Idaho']\n",
    "group_key = ['East'] * 4 + ['West'] * 4\n",
    "data = pd.Series(np.random.randn(8), index=states)\n",
    "data"
   ]
  },
  {
   "cell_type": "code",
   "execution_count": 7,
   "metadata": {},
   "outputs": [
    {
     "data": {
      "text/plain": [
       "Ohio          0.968576\n",
       "New York      1.804447\n",
       "Vermont            NaN\n",
       "Florida       2.338827\n",
       "Oregon        0.967104\n",
       "Nevada             NaN\n",
       "California    1.019146\n",
       "Idaho              NaN\n",
       "dtype: float64"
      ]
     },
     "execution_count": 7,
     "metadata": {},
     "output_type": "execute_result"
    }
   ],
   "source": [
    "data[['Vermont', 'Nevada', 'Idaho']] = np.nan\n",
    "data\n",
    "# data.groupby(group_key).mean()"
   ]
  },
  {
   "cell_type": "code",
   "execution_count": 11,
   "metadata": {},
   "outputs": [
    {
     "name": "stdout",
     "output_type": "stream",
     "text": [
      "East\n",
      "Ohio        0.968576\n",
      "New York    1.804447\n",
      "Vermont     1.703950\n",
      "Florida     2.338827\n",
      "dtype: float64\n",
      "West\n",
      "Oregon        0.967104\n",
      "Nevada        0.993125\n",
      "California    1.019146\n",
      "Idaho         0.993125\n",
      "dtype: float64\n"
     ]
    }
   ],
   "source": [
    "for name, ser in data.groupby(group_key):\n",
    "    print(name)\n",
    "    print(ser.fillna(ser.mean()))"
   ]
  },
  {
   "cell_type": "code",
   "execution_count": 12,
   "metadata": {},
   "outputs": [
    {
     "data": {
      "text/plain": [
       "Ohio          0.968576\n",
       "New York      1.804447\n",
       "Vermont       1.703950\n",
       "Florida       2.338827\n",
       "Oregon        0.967104\n",
       "Nevada        0.993125\n",
       "California    1.019146\n",
       "Idaho         0.993125\n",
       "dtype: float64"
      ]
     },
     "execution_count": 12,
     "metadata": {},
     "output_type": "execute_result"
    }
   ],
   "source": [
    "fill_mean = lambda ser: ser.fillna(ser.mean())\n",
    "data.groupby(group_key).apply(fill_mean)"
   ]
  },
  {
   "cell_type": "markdown",
   "metadata": {},
   "source": [
    "## 示例2：分组加权平均和相关性"
   ]
  },
  {
   "cell_type": "code",
   "execution_count": 13,
   "metadata": {},
   "outputs": [
    {
     "data": {
      "text/html": [
       "<div>\n",
       "<style scoped>\n",
       "    .dataframe tbody tr th:only-of-type {\n",
       "        vertical-align: middle;\n",
       "    }\n",
       "\n",
       "    .dataframe tbody tr th {\n",
       "        vertical-align: top;\n",
       "    }\n",
       "\n",
       "    .dataframe thead th {\n",
       "        text-align: right;\n",
       "    }\n",
       "</style>\n",
       "<table border=\"1\" class=\"dataframe\">\n",
       "  <thead>\n",
       "    <tr style=\"text-align: right;\">\n",
       "      <th></th>\n",
       "      <th>category</th>\n",
       "      <th>data</th>\n",
       "      <th>weights</th>\n",
       "    </tr>\n",
       "  </thead>\n",
       "  <tbody>\n",
       "    <tr>\n",
       "      <th>0</th>\n",
       "      <td>a</td>\n",
       "      <td>-0.538105</td>\n",
       "      <td>0.384966</td>\n",
       "    </tr>\n",
       "    <tr>\n",
       "      <th>1</th>\n",
       "      <td>a</td>\n",
       "      <td>-1.286816</td>\n",
       "      <td>0.691222</td>\n",
       "    </tr>\n",
       "    <tr>\n",
       "      <th>2</th>\n",
       "      <td>a</td>\n",
       "      <td>-0.685585</td>\n",
       "      <td>0.290874</td>\n",
       "    </tr>\n",
       "    <tr>\n",
       "      <th>3</th>\n",
       "      <td>a</td>\n",
       "      <td>0.360765</td>\n",
       "      <td>0.623987</td>\n",
       "    </tr>\n",
       "    <tr>\n",
       "      <th>4</th>\n",
       "      <td>b</td>\n",
       "      <td>0.461005</td>\n",
       "      <td>0.227476</td>\n",
       "    </tr>\n",
       "    <tr>\n",
       "      <th>5</th>\n",
       "      <td>b</td>\n",
       "      <td>-0.256503</td>\n",
       "      <td>0.763004</td>\n",
       "    </tr>\n",
       "    <tr>\n",
       "      <th>6</th>\n",
       "      <td>b</td>\n",
       "      <td>0.773426</td>\n",
       "      <td>0.188341</td>\n",
       "    </tr>\n",
       "    <tr>\n",
       "      <th>7</th>\n",
       "      <td>b</td>\n",
       "      <td>0.635781</td>\n",
       "      <td>0.428336</td>\n",
       "    </tr>\n",
       "  </tbody>\n",
       "</table>\n",
       "</div>"
      ],
      "text/plain": [
       "  category      data   weights\n",
       "0        a -0.538105  0.384966\n",
       "1        a -1.286816  0.691222\n",
       "2        a -0.685585  0.290874\n",
       "3        a  0.360765  0.623987\n",
       "4        b  0.461005  0.227476\n",
       "5        b -0.256503  0.763004\n",
       "6        b  0.773426  0.188341\n",
       "7        b  0.635781  0.428336"
      ]
     },
     "execution_count": 13,
     "metadata": {},
     "output_type": "execute_result"
    }
   ],
   "source": [
    "df = pd.DataFrame({'category': ['a', 'a', 'a', 'a',\n",
    "                                'b', 'b', 'b', 'b'],\n",
    "                   'data': np.random.randn(8),\n",
    "                   'weights': np.random.rand(8)})\n",
    "df"
   ]
  },
  {
   "cell_type": "code",
   "execution_count": 16,
   "metadata": {},
   "outputs": [
    {
     "data": {
      "text/plain": [
       "-0.53787426791093"
      ]
     },
     "execution_count": 16,
     "metadata": {},
     "output_type": "execute_result"
    }
   ],
   "source": [
    "x = df.loc[df['category']=='a', :]\n",
    "lambda x: np.average(x['data'], weights=x['weights'])"
   ]
  },
  {
   "cell_type": "code",
   "execution_count": 17,
   "metadata": {},
   "outputs": [
    {
     "data": {
      "text/plain": [
       "category\n",
       "a   -0.537874\n",
       "b    0.203559\n",
       "dtype: float64"
      ]
     },
     "execution_count": 17,
     "metadata": {},
     "output_type": "execute_result"
    }
   ],
   "source": [
    "grouped = df.groupby('category')\n",
    "get_wavg = lambda x: np.average(x['data'], weights=x['weights'])\n",
    "grouped.apply(get_wavg)"
   ]
  },
  {
   "cell_type": "code",
   "execution_count": 2,
   "metadata": {},
   "outputs": [
    {
     "data": {
      "text/html": [
       "<div>\n",
       "<style scoped>\n",
       "    .dataframe tbody tr th:only-of-type {\n",
       "        vertical-align: middle;\n",
       "    }\n",
       "\n",
       "    .dataframe tbody tr th {\n",
       "        vertical-align: top;\n",
       "    }\n",
       "\n",
       "    .dataframe thead th {\n",
       "        text-align: right;\n",
       "    }\n",
       "</style>\n",
       "<table border=\"1\" class=\"dataframe\">\n",
       "  <thead>\n",
       "    <tr style=\"text-align: right;\">\n",
       "      <th></th>\n",
       "      <th>AAPL</th>\n",
       "      <th>MSFT</th>\n",
       "      <th>XOM</th>\n",
       "      <th>SPX</th>\n",
       "    </tr>\n",
       "  </thead>\n",
       "  <tbody>\n",
       "    <tr>\n",
       "      <th>2003-01-02</th>\n",
       "      <td>7.40</td>\n",
       "      <td>21.11</td>\n",
       "      <td>29.22</td>\n",
       "      <td>909.03</td>\n",
       "    </tr>\n",
       "    <tr>\n",
       "      <th>2003-01-03</th>\n",
       "      <td>7.45</td>\n",
       "      <td>21.14</td>\n",
       "      <td>29.24</td>\n",
       "      <td>908.59</td>\n",
       "    </tr>\n",
       "    <tr>\n",
       "      <th>2003-01-06</th>\n",
       "      <td>7.45</td>\n",
       "      <td>21.52</td>\n",
       "      <td>29.96</td>\n",
       "      <td>929.01</td>\n",
       "    </tr>\n",
       "    <tr>\n",
       "      <th>2003-01-07</th>\n",
       "      <td>7.43</td>\n",
       "      <td>21.93</td>\n",
       "      <td>28.95</td>\n",
       "      <td>922.93</td>\n",
       "    </tr>\n",
       "    <tr>\n",
       "      <th>2003-01-08</th>\n",
       "      <td>7.28</td>\n",
       "      <td>21.31</td>\n",
       "      <td>28.83</td>\n",
       "      <td>909.93</td>\n",
       "    </tr>\n",
       "    <tr>\n",
       "      <th>...</th>\n",
       "      <td>...</td>\n",
       "      <td>...</td>\n",
       "      <td>...</td>\n",
       "      <td>...</td>\n",
       "    </tr>\n",
       "    <tr>\n",
       "      <th>2011-10-10</th>\n",
       "      <td>388.81</td>\n",
       "      <td>26.94</td>\n",
       "      <td>76.28</td>\n",
       "      <td>1194.89</td>\n",
       "    </tr>\n",
       "    <tr>\n",
       "      <th>2011-10-11</th>\n",
       "      <td>400.29</td>\n",
       "      <td>27.00</td>\n",
       "      <td>76.27</td>\n",
       "      <td>1195.54</td>\n",
       "    </tr>\n",
       "    <tr>\n",
       "      <th>2011-10-12</th>\n",
       "      <td>402.19</td>\n",
       "      <td>26.96</td>\n",
       "      <td>77.16</td>\n",
       "      <td>1207.25</td>\n",
       "    </tr>\n",
       "    <tr>\n",
       "      <th>2011-10-13</th>\n",
       "      <td>408.43</td>\n",
       "      <td>27.18</td>\n",
       "      <td>76.37</td>\n",
       "      <td>1203.66</td>\n",
       "    </tr>\n",
       "    <tr>\n",
       "      <th>2011-10-14</th>\n",
       "      <td>422.00</td>\n",
       "      <td>27.27</td>\n",
       "      <td>78.11</td>\n",
       "      <td>1224.58</td>\n",
       "    </tr>\n",
       "  </tbody>\n",
       "</table>\n",
       "<p>2214 rows × 4 columns</p>\n",
       "</div>"
      ],
      "text/plain": [
       "              AAPL   MSFT    XOM      SPX\n",
       "2003-01-02    7.40  21.11  29.22   909.03\n",
       "2003-01-03    7.45  21.14  29.24   908.59\n",
       "2003-01-06    7.45  21.52  29.96   929.01\n",
       "2003-01-07    7.43  21.93  28.95   922.93\n",
       "2003-01-08    7.28  21.31  28.83   909.93\n",
       "...            ...    ...    ...      ...\n",
       "2011-10-10  388.81  26.94  76.28  1194.89\n",
       "2011-10-11  400.29  27.00  76.27  1195.54\n",
       "2011-10-12  402.19  26.96  77.16  1207.25\n",
       "2011-10-13  408.43  27.18  76.37  1203.66\n",
       "2011-10-14  422.00  27.27  78.11  1224.58\n",
       "\n",
       "[2214 rows x 4 columns]"
      ]
     },
     "execution_count": 2,
     "metadata": {},
     "output_type": "execute_result"
    }
   ],
   "source": [
    "close_px = pd.read_csv('../datas/stock_px_2.csv', parse_dates=True,\n",
    "                       index_col=0)\n",
    "# close_px.info()\n",
    "close_px"
   ]
  },
  {
   "cell_type": "code",
   "execution_count": 3,
   "metadata": {},
   "outputs": [],
   "source": [
    "rtn = close_px.pct_change()"
   ]
  },
  {
   "cell_type": "code",
   "execution_count": 4,
   "metadata": {},
   "outputs": [],
   "source": [
    "# 按照年份进行分组\n",
    "grouped = rtn.groupby(close_px.index.year)"
   ]
  },
  {
   "cell_type": "code",
   "execution_count": 5,
   "metadata": {},
   "outputs": [],
   "source": [
    "x = rtn.loc['2003', ]\n",
    "spx_corr = lambda x: x.corrwith(x['SPX'])"
   ]
  },
  {
   "cell_type": "code",
   "execution_count": 6,
   "metadata": {},
   "outputs": [
    {
     "data": {
      "text/html": [
       "<div>\n",
       "<style scoped>\n",
       "    .dataframe tbody tr th:only-of-type {\n",
       "        vertical-align: middle;\n",
       "    }\n",
       "\n",
       "    .dataframe tbody tr th {\n",
       "        vertical-align: top;\n",
       "    }\n",
       "\n",
       "    .dataframe thead th {\n",
       "        text-align: right;\n",
       "    }\n",
       "</style>\n",
       "<table border=\"1\" class=\"dataframe\">\n",
       "  <thead>\n",
       "    <tr style=\"text-align: right;\">\n",
       "      <th></th>\n",
       "      <th>AAPL</th>\n",
       "      <th>MSFT</th>\n",
       "      <th>XOM</th>\n",
       "      <th>SPX</th>\n",
       "    </tr>\n",
       "  </thead>\n",
       "  <tbody>\n",
       "    <tr>\n",
       "      <th>2003</th>\n",
       "      <td>0.541124</td>\n",
       "      <td>0.745174</td>\n",
       "      <td>0.661265</td>\n",
       "      <td>1.0</td>\n",
       "    </tr>\n",
       "    <tr>\n",
       "      <th>2004</th>\n",
       "      <td>0.374283</td>\n",
       "      <td>0.588531</td>\n",
       "      <td>0.557742</td>\n",
       "      <td>1.0</td>\n",
       "    </tr>\n",
       "    <tr>\n",
       "      <th>2005</th>\n",
       "      <td>0.467540</td>\n",
       "      <td>0.562374</td>\n",
       "      <td>0.631010</td>\n",
       "      <td>1.0</td>\n",
       "    </tr>\n",
       "    <tr>\n",
       "      <th>2006</th>\n",
       "      <td>0.428267</td>\n",
       "      <td>0.406126</td>\n",
       "      <td>0.518514</td>\n",
       "      <td>1.0</td>\n",
       "    </tr>\n",
       "    <tr>\n",
       "      <th>2007</th>\n",
       "      <td>0.508118</td>\n",
       "      <td>0.658770</td>\n",
       "      <td>0.786264</td>\n",
       "      <td>1.0</td>\n",
       "    </tr>\n",
       "    <tr>\n",
       "      <th>2008</th>\n",
       "      <td>0.681434</td>\n",
       "      <td>0.804626</td>\n",
       "      <td>0.828303</td>\n",
       "      <td>1.0</td>\n",
       "    </tr>\n",
       "    <tr>\n",
       "      <th>2009</th>\n",
       "      <td>0.707103</td>\n",
       "      <td>0.654902</td>\n",
       "      <td>0.797921</td>\n",
       "      <td>1.0</td>\n",
       "    </tr>\n",
       "    <tr>\n",
       "      <th>2010</th>\n",
       "      <td>0.710105</td>\n",
       "      <td>0.730118</td>\n",
       "      <td>0.839057</td>\n",
       "      <td>1.0</td>\n",
       "    </tr>\n",
       "    <tr>\n",
       "      <th>2011</th>\n",
       "      <td>0.691931</td>\n",
       "      <td>0.800996</td>\n",
       "      <td>0.859975</td>\n",
       "      <td>1.0</td>\n",
       "    </tr>\n",
       "  </tbody>\n",
       "</table>\n",
       "</div>"
      ],
      "text/plain": [
       "          AAPL      MSFT       XOM  SPX\n",
       "2003  0.541124  0.745174  0.661265  1.0\n",
       "2004  0.374283  0.588531  0.557742  1.0\n",
       "2005  0.467540  0.562374  0.631010  1.0\n",
       "2006  0.428267  0.406126  0.518514  1.0\n",
       "2007  0.508118  0.658770  0.786264  1.0\n",
       "2008  0.681434  0.804626  0.828303  1.0\n",
       "2009  0.707103  0.654902  0.797921  1.0\n",
       "2010  0.710105  0.730118  0.839057  1.0\n",
       "2011  0.691931  0.800996  0.859975  1.0"
      ]
     },
     "execution_count": 6,
     "metadata": {},
     "output_type": "execute_result"
    }
   ],
   "source": [
    "grouped.apply(spx_corr)"
   ]
  },
  {
   "cell_type": "code",
   "execution_count": 7,
   "metadata": {},
   "outputs": [
    {
     "data": {
      "text/plain": [
       "2003    0.480868\n",
       "2004    0.259024\n",
       "2005    0.300093\n",
       "2006    0.161735\n",
       "2007    0.417738\n",
       "2008    0.611901\n",
       "2009    0.432738\n",
       "2010    0.571946\n",
       "2011    0.581987\n",
       "dtype: float64"
      ]
     },
     "execution_count": 7,
     "metadata": {},
     "output_type": "execute_result"
    }
   ],
   "source": [
    "grouped.apply(lambda g: g['AAPL'].corr(g['MSFT']))"
   ]
  },
  {
   "cell_type": "markdown",
   "metadata": {},
   "source": [
    "## 示例3：逐组线性回归"
   ]
  },
  {
   "cell_type": "code",
   "execution_count": 13,
   "metadata": {},
   "outputs": [],
   "source": [
    "def regress(data, yvar, xvars):\n",
    "    data = data.dropna()  \n",
    "#     # 若设置成inplace=True会导致后续分组后的data有问题\n",
    "#     data.dropna(inplace=True) \n",
    "#     # 可通过print(data)观察二者的影响\n",
    "#     print(data)\n",
    "    Y = data[yvar]\n",
    "    X = data[xvars]  # X是一个DataFrame\n",
    "    X['intercept'] = 1.\n",
    "    result = sm.OLS(Y, X).fit()\n",
    "    return result.params"
   ]
  },
  {
   "cell_type": "code",
   "execution_count": 40,
   "metadata": {},
   "outputs": [
    {
     "data": {
      "text/html": [
       "<div>\n",
       "<style scoped>\n",
       "    .dataframe tbody tr th:only-of-type {\n",
       "        vertical-align: middle;\n",
       "    }\n",
       "\n",
       "    .dataframe tbody tr th {\n",
       "        vertical-align: top;\n",
       "    }\n",
       "\n",
       "    .dataframe thead th {\n",
       "        text-align: right;\n",
       "    }\n",
       "</style>\n",
       "<table border=\"1\" class=\"dataframe\">\n",
       "  <thead>\n",
       "    <tr style=\"text-align: right;\">\n",
       "      <th></th>\n",
       "      <th>AAPL</th>\n",
       "      <th>MSFT</th>\n",
       "      <th>XOM</th>\n",
       "      <th>SPX</th>\n",
       "    </tr>\n",
       "  </thead>\n",
       "  <tbody>\n",
       "    <tr>\n",
       "      <th>2003-01-02</th>\n",
       "      <td>NaN</td>\n",
       "      <td>NaN</td>\n",
       "      <td>NaN</td>\n",
       "      <td>NaN</td>\n",
       "    </tr>\n",
       "    <tr>\n",
       "      <th>2003-01-03</th>\n",
       "      <td>0.006757</td>\n",
       "      <td>0.001421</td>\n",
       "      <td>0.000684</td>\n",
       "      <td>-0.000484</td>\n",
       "    </tr>\n",
       "    <tr>\n",
       "      <th>2003-01-06</th>\n",
       "      <td>0.000000</td>\n",
       "      <td>0.017975</td>\n",
       "      <td>0.024624</td>\n",
       "      <td>0.022474</td>\n",
       "    </tr>\n",
       "    <tr>\n",
       "      <th>2003-01-07</th>\n",
       "      <td>-0.002685</td>\n",
       "      <td>0.019052</td>\n",
       "      <td>-0.033712</td>\n",
       "      <td>-0.006545</td>\n",
       "    </tr>\n",
       "    <tr>\n",
       "      <th>2003-01-08</th>\n",
       "      <td>-0.020188</td>\n",
       "      <td>-0.028272</td>\n",
       "      <td>-0.004145</td>\n",
       "      <td>-0.014086</td>\n",
       "    </tr>\n",
       "    <tr>\n",
       "      <th>...</th>\n",
       "      <td>...</td>\n",
       "      <td>...</td>\n",
       "      <td>...</td>\n",
       "      <td>...</td>\n",
       "    </tr>\n",
       "    <tr>\n",
       "      <th>2003-12-24</th>\n",
       "      <td>0.030303</td>\n",
       "      <td>-0.003717</td>\n",
       "      <td>0.002080</td>\n",
       "      <td>-0.001807</td>\n",
       "    </tr>\n",
       "    <tr>\n",
       "      <th>2003-12-26</th>\n",
       "      <td>0.018627</td>\n",
       "      <td>0.006063</td>\n",
       "      <td>0.005336</td>\n",
       "      <td>0.001691</td>\n",
       "    </tr>\n",
       "    <tr>\n",
       "      <th>2003-12-29</th>\n",
       "      <td>0.017324</td>\n",
       "      <td>0.009272</td>\n",
       "      <td>0.013270</td>\n",
       "      <td>0.012401</td>\n",
       "    </tr>\n",
       "    <tr>\n",
       "      <th>2003-12-30</th>\n",
       "      <td>0.006623</td>\n",
       "      <td>0.002297</td>\n",
       "      <td>0.002619</td>\n",
       "      <td>0.000144</td>\n",
       "    </tr>\n",
       "    <tr>\n",
       "      <th>2003-12-31</th>\n",
       "      <td>0.004699</td>\n",
       "      <td>-0.005500</td>\n",
       "      <td>0.007837</td>\n",
       "      <td>0.002055</td>\n",
       "    </tr>\n",
       "  </tbody>\n",
       "</table>\n",
       "<p>252 rows × 4 columns</p>\n",
       "</div>"
      ],
      "text/plain": [
       "                AAPL      MSFT       XOM       SPX\n",
       "2003-01-02       NaN       NaN       NaN       NaN\n",
       "2003-01-03  0.006757  0.001421  0.000684 -0.000484\n",
       "2003-01-06  0.000000  0.017975  0.024624  0.022474\n",
       "2003-01-07 -0.002685  0.019052 -0.033712 -0.006545\n",
       "2003-01-08 -0.020188 -0.028272 -0.004145 -0.014086\n",
       "...              ...       ...       ...       ...\n",
       "2003-12-24  0.030303 -0.003717  0.002080 -0.001807\n",
       "2003-12-26  0.018627  0.006063  0.005336  0.001691\n",
       "2003-12-29  0.017324  0.009272  0.013270  0.012401\n",
       "2003-12-30  0.006623  0.002297  0.002619  0.000144\n",
       "2003-12-31  0.004699 -0.005500  0.007837  0.002055\n",
       "\n",
       "[252 rows x 4 columns]"
      ]
     },
     "execution_count": 40,
     "metadata": {},
     "output_type": "execute_result"
    }
   ],
   "source": [
    "x = rtn.loc['2003', ]\n",
    "x"
   ]
  },
  {
   "cell_type": "code",
   "execution_count": 14,
   "metadata": {},
   "outputs": [
    {
     "name": "stdout",
     "output_type": "stream",
     "text": [
      "                AAPL      MSFT       XOM       SPX\n",
      "2003-01-03  0.006757  0.001421  0.000684 -0.000484\n",
      "2003-01-06  0.000000  0.017975  0.024624  0.022474\n",
      "2003-01-07 -0.002685  0.019052 -0.033712 -0.006545\n",
      "2003-01-08 -0.020188 -0.028272 -0.004145 -0.014086\n",
      "2003-01-09  0.008242  0.029094  0.021159  0.019386\n",
      "...              ...       ...       ...       ...\n",
      "2003-12-24  0.030303 -0.003717  0.002080 -0.001807\n",
      "2003-12-26  0.018627  0.006063  0.005336  0.001691\n",
      "2003-12-29  0.017324  0.009272  0.013270  0.012401\n",
      "2003-12-30  0.006623  0.002297  0.002619  0.000144\n",
      "2003-12-31  0.004699 -0.005500  0.007837  0.002055\n",
      "\n",
      "[251 rows x 4 columns]\n",
      "                AAPL      MSFT       XOM       SPX\n",
      "2004-01-02 -0.004677  0.002765 -0.008929 -0.003094\n",
      "2004-01-05  0.042293  0.025276  0.023249  0.012395\n",
      "2004-01-06 -0.003607  0.003586 -0.006816  0.001292\n",
      "2004-01-07  0.022624 -0.001340 -0.007149  0.002367\n",
      "2004-01-08  0.033628 -0.001342 -0.002592  0.004963\n",
      "...              ...       ...       ...       ...\n",
      "2004-12-27 -0.013433 -0.006266 -0.021074 -0.004305\n",
      "2004-12-28  0.016149  0.003783  0.003399  0.007154\n",
      "2004-12-29  0.004051 -0.001675  0.001581 -0.000074\n",
      "2004-12-30  0.005587 -0.005034 -0.002029  0.000082\n",
      "2004-12-31 -0.006173 -0.001686  0.004519 -0.001343\n",
      "\n",
      "[252 rows x 4 columns]\n",
      "                AAPL      MSFT       XOM       SPX\n",
      "2005-01-03 -0.017081  0.000845 -0.022717 -0.008119\n",
      "2005-01-04  0.010111  0.003797 -0.006904 -0.011671\n",
      "2005-01-05  0.008758 -0.002522 -0.005098 -0.003628\n",
      "2005-01-06  0.000930 -0.000843  0.012579  0.003506\n",
      "2005-01-07  0.072491 -0.002952 -0.006441 -0.001431\n",
      "...              ...       ...       ...       ...\n",
      "2005-12-23 -0.009052  0.002096  0.000000  0.000426\n",
      "2005-12-27  0.011997 -0.006695 -0.021571 -0.009553\n",
      "2005-12-28 -0.008891 -0.002949  0.006675  0.001297\n",
      "2005-12-29 -0.028816 -0.004225 -0.000201 -0.002981\n",
      "2005-12-30  0.006158 -0.004667 -0.001206 -0.004887\n",
      "\n",
      "[252 rows x 4 columns]\n",
      "                AAPL      MSFT       XOM       SPX\n",
      "2006-01-03  0.039783  0.026428  0.041046  0.016430\n",
      "2006-01-04  0.002943  0.004568  0.001739  0.003673\n",
      "2006-01-05 -0.007870  0.000827 -0.005016  0.000016\n",
      "2006-01-06  0.025813 -0.002891  0.019779  0.009399\n",
      "2006-01-09 -0.003277 -0.002071 -0.000570  0.003656\n",
      "...              ...       ...       ...       ...\n",
      "2006-12-22 -0.008444 -0.011364 -0.005991 -0.005316\n",
      "2006-12-26 -0.008394  0.011865  0.008379  0.004352\n",
      "2006-12-27  0.000123  0.001099  0.011953  0.007015\n",
      "2006-12-28 -0.007974 -0.001464  0.004898 -0.001479\n",
      "2006-12-29  0.049091 -0.004032 -0.009031 -0.004513\n",
      "\n",
      "[251 rows x 4 columns]\n",
      "                AAPL      MSFT       XOM       SPX\n",
      "2007-01-03 -0.012258  0.000000 -0.032981 -0.001199\n",
      "2007-01-04  0.022196 -0.001472 -0.018699  0.001228\n",
      "2007-01-05 -0.007121 -0.005898  0.007165 -0.006085\n",
      "2007-01-08  0.004938  0.010011 -0.008022  0.002220\n",
      "2007-01-09  0.083070  0.000734 -0.007782 -0.000517\n",
      "...              ...       ...       ...       ...\n",
      "2007-12-24  0.025218  0.014432  0.002451  0.008077\n",
      "2007-12-26  0.000755  0.000889  0.012225  0.000809\n",
      "2007-12-27 -0.001910 -0.017471 -0.011962 -0.014282\n",
      "2007-12-28  0.006345  0.004219  0.014203  0.001504\n",
      "2007-12-31 -0.008757 -0.014406 -0.013889 -0.006852\n",
      "\n",
      "[251 rows x 4 columns]\n",
      "                AAPL      MSFT       XOM       SPX\n",
      "2008-01-02 -0.016357 -0.010658 -0.001862 -0.014438\n",
      "2008-01-03  0.000462  0.004001  0.003382  0.000000\n",
      "2008-01-04 -0.076335 -0.027897 -0.018596 -0.024552\n",
      "2008-01-07 -0.013385  0.006623 -0.009356  0.003223\n",
      "2008-01-08 -0.035972 -0.033521 -0.012791 -0.018352\n",
      "...              ...       ...       ...       ...\n",
      "2008-12-24 -0.015513 -0.005522  0.009113  0.005781\n",
      "2008-12-26  0.009055 -0.002221  0.018485  0.005356\n",
      "2008-12-29  0.009323 -0.008904  0.010806 -0.003873\n",
      "2008-12-30 -0.003695  0.020213  0.007264  0.024407\n",
      "2008-12-31 -0.010893  0.004953  0.015784  0.014158\n",
      "\n",
      "[253 rows x 4 columns]\n",
      "                AAPL      MSFT       XOM       SPX\n",
      "2009-01-02  0.063269  0.046002  0.022773  0.031608\n",
      "2009-01-05  0.042204  0.009424 -0.000131 -0.004668\n",
      "2009-01-06 -0.016494  0.011411 -0.016374  0.007817\n",
      "2009-01-07 -0.021608 -0.060000 -0.025436 -0.030010\n",
      "2009-01-08  0.018569  0.031097  0.010659  0.003397\n",
      "...              ...       ...       ...       ...\n",
      "2009-12-24  0.034339  0.002355  0.005818  0.005256\n",
      "2009-12-28  0.012294  0.005705  0.006241  0.001154\n",
      "2009-12-29 -0.011861  0.007007 -0.003480 -0.001401\n",
      "2009-12-30  0.012147 -0.013585 -0.001063  0.000195\n",
      "2009-12-31 -0.004300 -0.015788 -0.008511 -0.010050\n",
      "\n",
      "[252 rows x 4 columns]\n",
      "                AAPL      MSFT       XOM       SPX\n",
      "2010-01-04  0.015565  0.015700  0.014102  0.016043\n",
      "2010-01-05  0.001729  0.000336  0.003930  0.003116\n",
      "2010-01-06 -0.015906 -0.006382  0.008582  0.000546\n",
      "2010-01-07 -0.001849 -0.010142 -0.003135  0.004001\n",
      "2010-01-08  0.006648  0.006831 -0.003893  0.002882\n",
      "...              ...       ...       ...       ...\n",
      "2010-12-27  0.003337 -0.008279 -0.002641  0.000613\n",
      "2010-12-28  0.002433 -0.002178  0.005715  0.000771\n",
      "2010-12-29 -0.000553 -0.001455 -0.000693  0.001009\n",
      "2010-12-30 -0.005011 -0.004372 -0.000139 -0.001508\n",
      "2010-12-31 -0.003399  0.002195 -0.003329 -0.000191\n",
      "\n",
      "[252 rows x 4 columns]\n",
      "                AAPL      MSFT       XOM       SPX\n",
      "2011-01-03  0.021732  0.002556  0.019624  0.011315\n",
      "2011-01-04  0.005219  0.004006  0.004641 -0.001313\n",
      "2011-01-05  0.008180 -0.003264 -0.002717  0.005007\n",
      "2011-01-06 -0.000808  0.029476  0.006540 -0.002123\n",
      "2011-01-07  0.007161 -0.007777  0.005414 -0.001845\n",
      "...              ...       ...       ...       ...\n",
      "2011-10-10  0.051406  0.026286  0.036977  0.034125\n",
      "2011-10-11  0.029526  0.002227 -0.000131  0.000544\n",
      "2011-10-12  0.004747 -0.001481  0.011669  0.009795\n",
      "2011-10-13  0.015515  0.008160 -0.010238 -0.002974\n",
      "2011-10-14  0.033225  0.003311  0.022784  0.017380\n",
      "\n",
      "[199 rows x 4 columns]\n"
     ]
    },
    {
     "data": {
      "text/html": [
       "<div>\n",
       "<style scoped>\n",
       "    .dataframe tbody tr th:only-of-type {\n",
       "        vertical-align: middle;\n",
       "    }\n",
       "\n",
       "    .dataframe tbody tr th {\n",
       "        vertical-align: top;\n",
       "    }\n",
       "\n",
       "    .dataframe thead th {\n",
       "        text-align: right;\n",
       "    }\n",
       "</style>\n",
       "<table border=\"1\" class=\"dataframe\">\n",
       "  <thead>\n",
       "    <tr style=\"text-align: right;\">\n",
       "      <th></th>\n",
       "      <th>SPX</th>\n",
       "      <th>intercept</th>\n",
       "    </tr>\n",
       "  </thead>\n",
       "  <tbody>\n",
       "    <tr>\n",
       "      <th>2003</th>\n",
       "      <td>1.195406</td>\n",
       "      <td>0.000710</td>\n",
       "    </tr>\n",
       "    <tr>\n",
       "      <th>2004</th>\n",
       "      <td>1.363463</td>\n",
       "      <td>0.004201</td>\n",
       "    </tr>\n",
       "    <tr>\n",
       "      <th>2005</th>\n",
       "      <td>1.766415</td>\n",
       "      <td>0.003246</td>\n",
       "    </tr>\n",
       "    <tr>\n",
       "      <th>2006</th>\n",
       "      <td>1.645496</td>\n",
       "      <td>0.000080</td>\n",
       "    </tr>\n",
       "    <tr>\n",
       "      <th>2007</th>\n",
       "      <td>1.198761</td>\n",
       "      <td>0.003438</td>\n",
       "    </tr>\n",
       "    <tr>\n",
       "      <th>2008</th>\n",
       "      <td>0.968016</td>\n",
       "      <td>-0.001110</td>\n",
       "    </tr>\n",
       "    <tr>\n",
       "      <th>2009</th>\n",
       "      <td>0.879103</td>\n",
       "      <td>0.002954</td>\n",
       "    </tr>\n",
       "    <tr>\n",
       "      <th>2010</th>\n",
       "      <td>1.052608</td>\n",
       "      <td>0.001261</td>\n",
       "    </tr>\n",
       "    <tr>\n",
       "      <th>2011</th>\n",
       "      <td>0.806605</td>\n",
       "      <td>0.001514</td>\n",
       "    </tr>\n",
       "  </tbody>\n",
       "</table>\n",
       "</div>"
      ],
      "text/plain": [
       "           SPX  intercept\n",
       "2003  1.195406   0.000710\n",
       "2004  1.363463   0.004201\n",
       "2005  1.766415   0.003246\n",
       "2006  1.645496   0.000080\n",
       "2007  1.198761   0.003438\n",
       "2008  0.968016  -0.001110\n",
       "2009  0.879103   0.002954\n",
       "2010  1.052608   0.001261\n",
       "2011  0.806605   0.001514"
      ]
     },
     "execution_count": 14,
     "metadata": {},
     "output_type": "execute_result"
    }
   ],
   "source": [
    "grouped.apply(regress, yvar='AAPL', xvars=['SPX'])"
   ]
  },
  {
   "cell_type": "code",
   "execution_count": null,
   "metadata": {},
   "outputs": [],
   "source": []
  }
 ],
 "metadata": {
  "kernelspec": {
   "display_name": "Python 3.7.4 64-bit ('base': conda)",
   "language": "python",
   "name": "python37464bitbaseconda020006adccfe4b4ca44efa9b50c77dd0"
  },
  "language_info": {
   "codemirror_mode": {
    "name": "ipython",
    "version": 3
   },
   "file_extension": ".py",
   "mimetype": "text/x-python",
   "name": "python",
   "nbconvert_exporter": "python",
   "pygments_lexer": "ipython3",
   "version": "3.7.4"
  }
 },
 "nbformat": 4,
 "nbformat_minor": 2
}
